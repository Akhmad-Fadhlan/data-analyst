{
  "nbformat": 4,
  "nbformat_minor": 0,
  "metadata": {
    "colab": {
      "provenance": [],
      "toc_visible": true,
      "authorship_tag": "ABX9TyM0TSj4/56PBGk/PyqcXw7L",
      "include_colab_link": true
    },
    "kernelspec": {
      "name": "python3",
      "display_name": "Python 3"
    },
    "language_info": {
      "name": "python"
    }
  },
  "cells": [
    {
      "cell_type": "markdown",
      "metadata": {
        "id": "view-in-github",
        "colab_type": "text"
      },
      "source": [
        "<a href=\"https://colab.research.google.com/github/Akhmad-Fadhlan/data-analyst/blob/main/tes1.ipynb\" target=\"_parent\"><img src=\"https://colab.research.google.com/assets/colab-badge.svg\" alt=\"Open In Colab\"/></a>"
      ]
    },
    {
      "cell_type": "code",
      "execution_count": 4,
      "metadata": {
        "colab": {
          "base_uri": "https://localhost:8080/",
          "height": 106
        },
        "id": "sntGEuyC6WpB",
        "outputId": "45bc3d1e-4ab6-474c-b0d9-9a11f5e1b435"
      },
      "outputs": [
        {
          "output_type": "error",
          "ename": "SyntaxError",
          "evalue": "invalid syntax (<ipython-input-4-f188d5ac1197>, line 1)",
          "traceback": [
            "\u001b[0;36m  File \u001b[0;32m\"<ipython-input-4-f188d5ac1197>\"\u001b[0;36m, line \u001b[0;32m1\u001b[0m\n\u001b[0;31m    git init\u001b[0m\n\u001b[0m        ^\u001b[0m\n\u001b[0;31mSyntaxError\u001b[0m\u001b[0;31m:\u001b[0m invalid syntax\n"
          ]
        }
      ],
      "source": [
        "git init"
      ]
    },
    {
      "cell_type": "code",
      "source": [
        "import pandas as pd\n",
        "import warnings\n",
        "import numpy as np\n",
        "\n",
        "warnings.filterwarnings('ignore')\n",
        "# Jumlah sampel\n",
        "n_samples = 100\n",
        "\n",
        "# Waktu transaksi (dari 1 Januari 2023 hingga 31 Desember 2023)\n",
        "transaction_time = pd.date_range(start='1/1/2023', end='31/12/2023',\n",
        "periods=n_samples)\n",
        "\n",
        "# Produk yang dibeli (diasumsikan ada 3 produk: A, B, dan C)\n",
        "products = np.random.choice(['A', 'B', 'C'], n_samples)\n",
        "\n",
        "# Jumlah yang dibeli (diasumsikan antara 1 hingga 10)\n",
        "amounts = np.random.randint(1, 11, n_samples)\n",
        "\n",
        "# Harga per unit (diasumsikan antara 10 hingga 20)\n",
        "prices = np.random.uniform(10.0, 20.0, n_samples)\n",
        "\n",
        "# Total harga\n",
        "total_prices = amounts * prices.astype(float)\n",
        "\n",
        "# Buat DataFrame\n",
        "df = pd.DataFrame({\n",
        "'Transaction Time': transaction_time,\n",
        "'Product': products,\n",
        "'Amount': amounts,\n",
        "'Price': prices,\n",
        "'Total Price': total_prices\n",
        "})\n",
        "\n",
        "import matplotlib.pyplot as plt\n",
        "import seaborn as sns\n",
        "# Lihat statistik deskriptif\n",
        "print(df.describe())\n",
        "\n",
        "plt.hist(df['Amount'], bins=10, edgecolor='black')\n",
        "plt.xlabel('Amount')\n",
        "plt.ylabel('Frequency')\n",
        "plt.show()"
      ],
      "metadata": {
        "colab": {
          "base_uri": "https://localhost:8080/",
          "height": 605
        },
        "id": "TI0GwgS06mp5",
        "outputId": "933a77b8-806c-4de6-c64d-00ef14ea3dd7"
      },
      "execution_count": 2,
      "outputs": [
        {
          "output_type": "stream",
          "name": "stdout",
          "text": [
            "          Transaction Time      Amount       Price  Total Price\n",
            "count                  100  100.000000  100.000000   100.000000\n",
            "mean   2023-07-02 00:00:00    5.220000   15.214992    80.822114\n",
            "min    2023-01-01 00:00:00    1.000000   10.075751    10.205855\n",
            "25%    2023-04-02 00:00:00    2.000000   13.041425    35.411643\n",
            "50%    2023-07-02 00:00:00    5.000000   15.344441    77.176393\n",
            "75%    2023-10-01 00:00:00    8.000000   17.755938   123.425040\n",
            "max    2023-12-31 00:00:00   10.000000   19.930608   196.491332\n",
            "std                    NaN    2.966411    2.938501    49.702536\n"
          ]
        },
        {
          "output_type": "display_data",
          "data": {
            "text/plain": [
              "<Figure size 640x480 with 1 Axes>"
            ],
            "image/png": "[encoded data removed]"
          },
          "metadata": {}
        }
      ]
    }
  ]
}